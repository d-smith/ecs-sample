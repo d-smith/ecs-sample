{
 "cells": [
  {
   "cell_type": "markdown",
   "metadata": {},
   "source": [
    "## Dev Center Setup\n",
    "\n",
    "This notebook walks through a sample app setup, which consists of the following layers:\n",
    "\n",
    "* The foundation is the network setup - VPC creation, subnet definitions, internet and NAT gateways, etc.\n",
    "* ECS cluster, including autoscale setup\n",
    "* Load balancer configuration, including HTTPS configuration and optional route 53 alias\n",
    "* Logging set up\n",
    "* Installation of an application container\n",
    "\n",
    "### Region and Account\n",
    "\n",
    "This notebook assumes we are running this in the dev center developer sandbox account.\n",
    "\n",
    "### Assumptions\n",
    "\n",
    "Prior to running this set up, the following must be in place.\n",
    "\n",
    "* The cloud formation templates are available in the s3 bucket referenced in the notebook\n",
    "* The domain name referenced in the notebook as been obtained and set up in a hosted zone in Route 53\n",
    "* The certificate associated with the domain is available in AWS ACM\n",
    "* A bucket containing sumo.zip is available.\n",
    "* The key pair used for launching EC2 instances has been created.\n",
    "* The database used by the application has been created.\n",
    "\n",
    "### Stack Names"
   ]
  },
  {
   "cell_type": "code",
   "execution_count": null,
   "metadata": {
    "collapsed": true
   },
   "outputs": [],
   "source": [
    "vpc_stack = 'network-demo'\n",
    "ecs_stack = 'ecs-demo'\n",
    "alb_stack = 'alb-demo'\n",
    "hc_stack = 'hc-demo'\n",
    "sumo_stack = 'sumo-demo'\n",
    "appsvc_stack = 'pfactors-demo'"
   ]
  },
  {
   "cell_type": "markdown",
   "metadata": {},
   "source": [
    "### Account Specific Stuff\n",
    "Set the following according to your set up."
   ]
  },
  {
   "cell_type": "code",
   "execution_count": null,
   "metadata": {
    "collapsed": false
   },
   "outputs": [],
   "source": [
    "import os\n",
    "\n",
    "bucket = os.environ['CF_BUCKET']\n",
    "sumo_bucket = os.environ['SUMO_BUCKET']\n",
    "key_name = os.environ['KEYPAIRNAME']\n",
    "sumo_endpoint = os.environ['SUMO_ENDPOINT']\n",
    "region = os.environ['AWS_DEFAULT_REGION']"
   ]
  },
  {
   "cell_type": "markdown",
   "metadata": {},
   "source": [
    "### SDK Setup"
   ]
  },
  {
   "cell_type": "code",
   "execution_count": null,
   "metadata": {
    "collapsed": true
   },
   "outputs": [],
   "source": [
    "# Note - before starting jupyter notebook set https_proxy, and if needed export\n",
    "#        AWS_DEFAULT_REGION as well, e.g. AWS_DEFAULT_REGION=us-west-1. This can\n",
    "#        also be done via AWS config and AWS_DEFAULT_PROFILE\n",
    "\n",
    "import boto3\n",
    "\n",
    "client = boto3.client('cloudformation')\n",
    "waiter = client.get_waiter('stack_create_complete')"
   ]
  },
  {
   "cell_type": "markdown",
   "metadata": {},
   "source": [
    "## VPC Setup"
   ]
  },
  {
   "cell_type": "code",
   "execution_count": null,
   "metadata": {
    "collapsed": false
   },
   "outputs": [],
   "source": [
    "response = client.create_stack(\n",
    "    StackName=vpc_stack,\n",
    "    TemplateURL='https://s3-' + region + '.amazonaws.com/' + bucket + '/vpc-pub-priv.yaml'\n",
    ")\n",
    "\n",
    "print response\n",
    "\n",
    "print 'waiting for network stack to complete...'\n",
    "waiter.wait(\n",
    "    StackName=vpc_stack\n",
    ")\n",
    "print 'network stack created'"
   ]
  },
  {
   "cell_type": "code",
   "execution_count": null,
   "metadata": {
    "collapsed": false
   },
   "outputs": [],
   "source": [
    "# Extract the stack variables we'll need upstream\n",
    "response = client.describe_stacks(\n",
    "    StackName=vpc_stack\n",
    ")\n",
    "\n",
    "outputs = response['Stacks'][0]['Outputs']\n",
    "print outputs\n",
    "\n",
    "vpcId = [d for d in outputs if d['OutputKey'] == 'VpcId'][0]['OutputValue']\n",
    "privateSubnet1 = [d for d in outputs if d['OutputKey'] == 'PrivateSubnet1'][0]['OutputValue']\n",
    "privateSubnet2 = [d for d in outputs if d['OutputKey'] == 'PrivateSubnet2'][0]['OutputValue']\n",
    "publicSubnet1 = [d for d in outputs if d['OutputKey'] == 'PublicSubnet1'][0]['OutputValue']\n",
    "publicSubnet2 = [d for d in outputs if d['OutputKey'] == 'PublicSubnet2'][0]['OutputValue']\n",
    "\n",
    "print vpcId"
   ]
  },
  {
   "cell_type": "markdown",
   "metadata": {},
   "source": [
    "## ECS Cluster Setup"
   ]
  },
  {
   "cell_type": "code",
   "execution_count": null,
   "metadata": {
    "collapsed": false
   },
   "outputs": [],
   "source": [
    "response = client.create_stack(\n",
    "    StackName=ecs_stack,\n",
    "    TemplateURL='https://s3-' + region + '.amazonaws.com/' + bucket + '/ecs-cluster.yaml',\n",
    "    Parameters=[\n",
    "        {\n",
    "            'ParameterKey': 'AMIType',\n",
    "            'ParameterValue': 'Amazon'\n",
    "        },\n",
    "        {\n",
    "            'ParameterKey': 'EcsClusterName',\n",
    "            'ParameterValue': 'DemoCluster'\n",
    "        },\n",
    "        {\n",
    "            'ParameterKey': 'KeyName',\n",
    "            'ParameterValue': key_name\n",
    "        },\n",
    "        {\n",
    "            'ParameterKey': 'MaxSize',\n",
    "            'ParameterValue': '6'\n",
    "        },\n",
    "        {\n",
    "            'ParameterKey': 'VpcId',\n",
    "            'ParameterValue': vpcId\n",
    "        },\n",
    "        {\n",
    "            'ParameterKey': 'PrivateSubnet1',\n",
    "            'ParameterValue': privateSubnet1\n",
    "        },\n",
    "        {\n",
    "            'ParameterKey': 'PrivateSubnet2',\n",
    "            'ParameterValue': privateSubnet2\n",
    "        }\n",
    "        \n",
    "    ],\n",
    "    Capabilities=[\n",
    "        'CAPABILITY_IAM',\n",
    "    ]\n",
    ")\n",
    "\n",
    "print response"
   ]
  },
  {
   "cell_type": "code",
   "execution_count": null,
   "metadata": {
    "collapsed": false
   },
   "outputs": [],
   "source": [
    "# Wait for it...\n",
    "waiter = client.get_waiter('stack_create_complete')\n",
    "waiter.wait(\n",
    "    StackName=ecs_stack\n",
    ")"
   ]
  },
  {
   "cell_type": "code",
   "execution_count": null,
   "metadata": {
    "collapsed": false
   },
   "outputs": [],
   "source": [
    "# Extract the stack outputs we'll need later\n",
    "response = client.describe_stacks(\n",
    "    StackName=ecs_stack\n",
    ")\n",
    "\n",
    "ecs_outputs = response['Stacks'][0]['Outputs']\n",
    "print ecs_outputs\n",
    "\n",
    "ecsStackSecurityGroup = [d for d in ecs_outputs if d['OutputKey'] == 'AppServerSecurityGroupID'][0]['OutputValue']\n",
    "ecsCluster = [d for d in ecs_outputs if d['OutputKey'] == 'ECSCluster'][0]['OutputValue']"
   ]
  },
  {
   "cell_type": "markdown",
   "metadata": {},
   "source": [
    "## Load Balancer Setup\n",
    "\n",
    "For the load balancer set up we need to reference a certificate that was imported into the AWS\n",
    "certificate manager."
   ]
  },
  {
   "cell_type": "code",
   "execution_count": null,
   "metadata": {
    "collapsed": false
   },
   "outputs": [],
   "source": [
    "acmClient = boto3.client('acm')\n",
    "response = acmClient.list_certificates()\n",
    "print response, '\\n'\n",
    "\n",
    "certificateArn = ''\n",
    "\n",
    "for c in response['CertificateSummaryList']:\n",
    "    if c['DomainName'] == 'elb.amazonaws.com':\n",
    "        certificateArn = c['CertificateArn']\n",
    "        \n",
    "print 'certificate arn: ', certificateArn"
   ]
  },
  {
   "cell_type": "code",
   "execution_count": null,
   "metadata": {
    "collapsed": false
   },
   "outputs": [],
   "source": [
    "response = client.create_stack(\n",
    "    StackName=alb_stack,\n",
    "    TemplateURL='https://s3-' + region + '.amazonaws.com/' + bucket + '/alb.yaml',\n",
    "    Parameters=[\n",
    "        {\n",
    "            'ParameterKey': 'CertificateArn',\n",
    "            'ParameterValue': certificateArn,\n",
    "        },\n",
    "        {\n",
    "            'ParameterKey': 'LoadBalancerName',\n",
    "            'ParameterValue': 'alice'\n",
    "        },\n",
    "        {\n",
    "            'ParameterKey': 'VpcId',\n",
    "            'ParameterValue': vpcId\n",
    "        },\n",
    "        {\n",
    "            'ParameterKey': 'AppServerSecurityGroupID',\n",
    "            'ParameterValue': ecsStackSecurityGroup\n",
    "        },\n",
    "        {\n",
    "            'ParameterKey': 'PublicSubnet1',\n",
    "            'ParameterValue': publicSubnet1\n",
    "        },\n",
    "        {\n",
    "            'ParameterKey': 'PublicSubnet2',\n",
    "            'ParameterValue': publicSubnet2\n",
    "        }  \n",
    "    ]\n",
    ")\n",
    "\n",
    "print response"
   ]
  },
  {
   "cell_type": "code",
   "execution_count": null,
   "metadata": {
    "collapsed": false
   },
   "outputs": [],
   "source": [
    "# Wait for it...\n",
    "print 'waiting for alb...'\n",
    "waiter.wait(\n",
    "    StackName=alb_stack\n",
    ")\n",
    "print 'alb stack create finished'"
   ]
  },
  {
   "cell_type": "code",
   "execution_count": null,
   "metadata": {
    "collapsed": false
   },
   "outputs": [],
   "source": [
    "# Get the stack output we'll refer to later downstream\n",
    "response = client.describe_stacks(\n",
    "    StackName=alb_stack\n",
    ")\n",
    "\n",
    "alb_outputs = response['Stacks'][0]['Outputs']\n",
    "loadBalancerDNSName = [d for d in alb_outputs if d['OutputKey'] == 'ALBDnsName'][0]['OutputValue']\n",
    "loadBalancerARN =    [d for d in alb_outputs if d['OutputKey'] == 'ALBListenerArn'][0]['OutputValue'] \n"
   ]
  },
  {
   "cell_type": "markdown",
   "metadata": {},
   "source": [
    "## Install Health Check Service"
   ]
  },
  {
   "cell_type": "code",
   "execution_count": null,
   "metadata": {
    "collapsed": false
   },
   "outputs": [],
   "source": [
    "# Create the record set stack\n",
    "response = client.create_stack(\n",
    "    StackName=hc_stack,\n",
    "    TemplateURL='https://s3-' + region + '.amazonaws.com/' + bucket + '/hc.yaml',\n",
    "    Parameters=[\n",
    "        {\n",
    "            'ParameterKey': 'VpcId',\n",
    "            'ParameterValue': vpcId\n",
    "        },\n",
    "        {\n",
    "            'ParameterKey': 'ECSCluster',\n",
    "            'ParameterValue': ecsCluster\n",
    "        },\n",
    "        {\n",
    "            'ParameterKey': 'ALBListenerArn',\n",
    "            'ParameterValue': loadBalancerARN\n",
    "        },\n",
    "        {\n",
    "            'ParameterKey':'Registry',\n",
    "            'ParameterValue':'docker.io'\n",
    "        }\n",
    "    ],\n",
    "    Capabilities=[\n",
    "        'CAPABILITY_NAMED_IAM',\n",
    "    ]\n",
    ")\n",
    "\n",
    "print response"
   ]
  },
  {
   "cell_type": "code",
   "execution_count": null,
   "metadata": {
    "collapsed": false
   },
   "outputs": [],
   "source": [
    "print 'waiting for hc stack...'\n",
    "waiter.wait(\n",
    "    StackName=hc_stack\n",
    ")\n",
    "print 'hc stack creation complete'"
   ]
  },
  {
   "cell_type": "markdown",
   "metadata": {},
   "source": [
    "### GET using the Alias"
   ]
  },
  {
   "cell_type": "code",
   "execution_count": null,
   "metadata": {
    "collapsed": false
   },
   "outputs": [],
   "source": [
    "# Grab the proxy config from the environment\n",
    "import os\n",
    "proxy = os.environ['https_proxy']\n",
    "\n",
    "print proxy"
   ]
  },
  {
   "cell_type": "code",
   "execution_count": null,
   "metadata": {
    "collapsed": false
   },
   "outputs": [],
   "source": [
    "# Need the load balancer endpoint, which is an output of the alb stack\n",
    "hcEndpoint = 'https://' + loadBalancerDNSName + '/hcping'\n",
    "print hcEndpoint"
   ]
  },
  {
   "cell_type": "code",
   "execution_count": null,
   "metadata": {
    "collapsed": false
   },
   "outputs": [],
   "source": [
    "%%bash -s \"$hcEndpoint\"\n",
    "curl -i -k $1 "
   ]
  },
  {
   "cell_type": "markdown",
   "metadata": {},
   "source": [
    "## Configure Sumo Log Writer\n",
    "\n",
    "The code we package and deploy as containers are 12 factor apps that write their\n",
    "log streams to standard out. With AWS ECS, we use the aws-log logging stack to\n",
    "capture log streams as Cloud Watch logs, then set up subscriptions to \n",
    "send those log steams to a lambda function."
   ]
  },
  {
   "cell_type": "code",
   "execution_count": null,
   "metadata": {
    "collapsed": false
   },
   "outputs": [],
   "source": [
    "# Create the record set stack\n",
    "response = client.create_stack(\n",
    "    StackName=sumo_stack,\n",
    "    TemplateURL='https://s3-' + region + '.amazonaws.com/' +  bucket + '/sumolambda.yaml',\n",
    "    Parameters=[\n",
    "        {\n",
    "            'ParameterKey': 'SumoEndpoint',\n",
    "            'ParameterValue': sumo_endpoint,\n",
    "        },\n",
    "        {\n",
    "            'ParameterKey': 'CodeFileName',\n",
    "            'ParameterValue': 'sumo.zip'\n",
    "        },\n",
    "        {\n",
    "            'ParameterKey': 'CodeBucketName',\n",
    "            'ParameterValue': sumo_bucket\n",
    "        }\n",
    "    ],\n",
    "    Capabilities=[\n",
    "        'CAPABILITY_IAM',\n",
    "    ],\n",
    ")\n",
    "\n",
    "print response"
   ]
  },
  {
   "cell_type": "code",
   "execution_count": null,
   "metadata": {
    "collapsed": false
   },
   "outputs": [],
   "source": [
    "waiter.wait(\n",
    "    StackName=sumo_stack\n",
    ")\n",
    "print 'sumo stack created'"
   ]
  },
  {
   "cell_type": "code",
   "execution_count": null,
   "metadata": {
    "collapsed": false
   },
   "outputs": [],
   "source": [
    "# Extract stack output\n",
    "# Get the stack output we'll refer to later downstream\n",
    "response = client.describe_stacks(\n",
    "    StackName=sumo_stack\n",
    ")\n",
    "\n",
    "print response\n",
    "\n",
    "sumo_outputs = response['Stacks'][0]['Outputs']\n",
    "lambdaArn = sumo_outputs[0]['OutputValue']\n",
    "print lambdaArn"
   ]
  },
  {
   "cell_type": "markdown",
   "metadata": {},
   "source": [
    "## Install Application Services\n",
    "\n",
    "We can now install application services. We'll install a simple service that computes prime factors. This is \n",
    "a proxy for other services that we would install, manage, and scale using AWS ECS."
   ]
  },
  {
   "cell_type": "code",
   "execution_count": null,
   "metadata": {
    "collapsed": false
   },
   "outputs": [],
   "source": [
    "response = client.create_stack(\n",
    "    StackName=appsvc_stack,\n",
    "    TemplateURL='https://s3-' + region + '.amazonaws.com/' + bucket + '/pfservice.yaml',\n",
    "    Parameters=[\n",
    "        {\n",
    "            'ParameterKey': 'ALBListenerArn',\n",
    "            'ParameterValue': loadBalancerARN,\n",
    "        },\n",
    "        {\n",
    "            'ParameterKey': 'ECSCluster',\n",
    "            'ParameterValue': ecsCluster\n",
    "        },\n",
    "        {\n",
    "            'ParameterKey': 'VpcId',\n",
    "            'ParameterValue': vpcId\n",
    "        },\n",
    "        {\n",
    "            'ParameterKey': 'LambdaArn',\n",
    "            'ParameterValue': lambdaArn\n",
    "        }\n",
    "    ],\n",
    "    Capabilities=[\n",
    "        'CAPABILITY_NAMED_IAM',\n",
    "    ]\n",
    ")\n",
    "\n",
    "print response"
   ]
  },
  {
   "cell_type": "code",
   "execution_count": null,
   "metadata": {
    "collapsed": false
   },
   "outputs": [],
   "source": [
    "waiter.wait(\n",
    "    StackName=appsvc_stack\n",
    ")"
   ]
  },
  {
   "cell_type": "code",
   "execution_count": null,
   "metadata": {
    "collapsed": false
   },
   "outputs": [],
   "source": [
    "pfEndpoint = 'https://' + loadBalancerDNSName + '/pf/1337'\n",
    "print pfEndpoint"
   ]
  },
  {
   "cell_type": "code",
   "execution_count": null,
   "metadata": {
    "collapsed": false
   },
   "outputs": [],
   "source": [
    "%%bash -s \"$pfEndpoint\"\n",
    "curl -i -k $1"
   ]
  },
  {
   "cell_type": "markdown",
   "metadata": {},
   "source": [
    "\n",
    "## Tear It Down"
   ]
  },
  {
   "cell_type": "code",
   "execution_count": null,
   "metadata": {
    "collapsed": false
   },
   "outputs": [],
   "source": [
    "# Tear down the app container stack\n",
    "waiter = client.get_waiter('stack_delete_complete')\n",
    "response = client.delete_stack(\n",
    "    StackName=appsvc_stack\n",
    ")\n",
    "\n",
    "print response\n",
    "waiter.wait(\n",
    "    StackName=appsvc_stack\n",
    ")"
   ]
  },
  {
   "cell_type": "code",
   "execution_count": null,
   "metadata": {
    "collapsed": false
   },
   "outputs": [],
   "source": [
    "# Tear down the Sumo Stack\n",
    "response = client.delete_stack(\n",
    "    StackName=sumo_stack\n",
    ")\n",
    "\n",
    "print response\n",
    "waiter.wait(\n",
    "    StackName=sumo_stack\n",
    ")"
   ]
  },
  {
   "cell_type": "code",
   "execution_count": null,
   "metadata": {
    "collapsed": false
   },
   "outputs": [],
   "source": [
    "# Remove the hc stack\n",
    "response = client.delete_stack(\n",
    "    StackName=hc_stack\n",
    ")\n",
    "\n",
    "print response\n",
    "waiter.wait(\n",
    "    StackName=hc_stack\n",
    ")"
   ]
  },
  {
   "cell_type": "code",
   "execution_count": null,
   "metadata": {
    "collapsed": false
   },
   "outputs": [],
   "source": [
    "# Remove the alb\n",
    "response = client.delete_stack(\n",
    "    StackName=alb_stack\n",
    ")\n",
    "\n",
    "print response\n",
    "waiter.wait(\n",
    "    StackName=alb_stack\n",
    ")"
   ]
  },
  {
   "cell_type": "code",
   "execution_count": null,
   "metadata": {
    "collapsed": false
   },
   "outputs": [],
   "source": [
    "# Remove the ECS cluster - note this usually fails on the first try\n",
    "# while the cluster instances are draining. I've opened a support case...\n",
    "response = client.delete_stack(\n",
    "    StackName=ecs_stack\n",
    ")\n",
    "\n",
    "print response\n",
    "waiter.wait(\n",
    "    StackName=ecs_stack\n",
    ")"
   ]
  },
  {
   "cell_type": "code",
   "execution_count": null,
   "metadata": {
    "collapsed": false
   },
   "outputs": [],
   "source": [
    "# Nuken the netwerk stak\n",
    "response = client.delete_stack(\n",
    "    StackName=vpc_stack\n",
    ")\n",
    "\n",
    "print response\n",
    "waiter.wait(\n",
    "    StackName=vpc_stack\n",
    ")"
   ]
  },
  {
   "cell_type": "code",
   "execution_count": null,
   "metadata": {
    "collapsed": true
   },
   "outputs": [],
   "source": []
  }
 ],
 "metadata": {
  "kernelspec": {
   "display_name": "Python 2",
   "language": "python",
   "name": "python2"
  },
  "language_info": {
   "codemirror_mode": {
    "name": "ipython",
    "version": 2
   },
   "file_extension": ".py",
   "mimetype": "text/x-python",
   "name": "python",
   "nbconvert_exporter": "python",
   "pygments_lexer": "ipython2",
   "version": "2.7.12"
  }
 },
 "nbformat": 4,
 "nbformat_minor": 0
}
